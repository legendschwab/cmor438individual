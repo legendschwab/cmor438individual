{
 "cells": [
  {
   "cell_type": "markdown",
   "metadata": {},
   "source": [
    "# I. Algorithm"
   ]
  },
  {
   "cell_type": "code",
   "execution_count": 19,
   "metadata": {},
   "outputs": [],
   "source": [
    "import numpy as np\n",
    "import matplotlib.pyplot as plt\n",
    "import pandas as pd\n",
    "\n",
    "from sklearn.metrics import confusion_matrix, ConfusionMatrixDisplay, classification_report"
   ]
  },
  {
   "cell_type": "code",
   "execution_count": 82,
   "metadata": {},
   "outputs": [],
   "source": [
    "class LogisticRegression:\n",
    "    def __init__(self, learning_rate=0.01, num_iterations=1000):\n",
    "        self.learning_rate = learning_rate\n",
    "        self.num_iterations = num_iterations\n",
    "        self.weights = None\n",
    "        self.bias = None\n",
    "\n",
    "    def sigmoid(self, z):\n",
    "        return 1 / (1 + np.exp(-z))\n",
    "\n",
    "    def fit(self, X, y):\n",
    "        n_samples, n_features = X.shape\n",
    "        # Start with zeros for weights and bias\n",
    "        self.weights = np.zeros(n_features)\n",
    "        self.bias = 0\n",
    "\n",
    "        for i in range(self.num_iterations):\n",
    "            linear_model = np.dot(X, self.weights) + self.bias\n",
    "            y_predicted = self.sigmoid(linear_model)\n",
    "\n",
    "            # Compute gradients\n",
    "            dw = (1 / n_samples) * np.dot(X.T, (y_predicted - y))\n",
    "            db = (1 / n_samples) * np.sum(y_predicted - y)\n",
    "\n",
    "            # Update weights\n",
    "            self.weights -= self.learning_rate * dw\n",
    "            self.bias -= self.learning_rate * db\n",
    "\n",
    "    def predict_probability(self, X):\n",
    "        linear_model = np.dot(X, self.weights) + self.bias\n",
    "        return self.sigmoid(linear_model)\n",
    "\n",
    "    def predict(self, X):\n",
    "        y_probs = self.predict_probability(X)\n",
    "        return [1 if prob >= 0.5 else 0 for prob in y_probs]"
   ]
  },
  {
   "cell_type": "markdown",
   "metadata": {},
   "source": [
    "# II. Application to Data Set"
   ]
  },
  {
   "cell_type": "code",
   "execution_count": 62,
   "metadata": {},
   "outputs": [
    {
     "name": "stdout",
     "output_type": "stream",
     "text": [
      "There are 70 roller coasters we have data for.\n",
      "There are 36 inverted roller coasters.\n",
      "There are 34 non-inverted roller coasters.\n"
     ]
    },
    {
     "name": "stderr",
     "output_type": "stream",
     "text": [
      "/var/folders/xh/x976_5p93059y1sn4ybh8ql40000gn/T/ipykernel_4650/1444260.py:19: SettingWithCopyWarning: \n",
      "A value is trying to be set on a copy of a slice from a DataFrame.\n",
      "Try using .loc[row_indexer,col_indexer] = value instead\n",
      "\n",
      "See the caveats in the documentation: https://pandas.pydata.org/pandas-docs/stable/user_guide/indexing.html#returning-a-view-versus-a-copy\n",
      "  clean_data['Inverted'] = clean_data['Inversions_clean'].apply(lambda x: 1 if x > 0 else 0)\n"
     ]
    }
   ],
   "source": [
    "#coaster_data = pd.read_csv(\"../coaster_db.csv\")\n",
    "\n",
    "#coaster_subset = coaster_data[['height_ft','speed_mph','Type']]\n",
    "\n",
    "#coaster_subset = coaster_subset.dropna()\n",
    "\n",
    "#wood_coasters = coaster_subset[coaster_subset['Type'].str.contains('Wood', case=False, na=False)]\n",
    "\n",
    "#steel_coasters = coaster_subset[~coaster_subset['Type'].str.contains('Wood', case=False, na=False)]\n",
    "\n",
    "coaster_data = pd.read_csv(\"../coaster_db.csv\")\n",
    "\n",
    "coaster_subset = coaster_data[['height_ft','speed_mph','Inversions_clean','Gforce_clean']]\n",
    "\n",
    "clean_data = coaster_subset.dropna()\n",
    "\n",
    "# Creating column for whether coaster has at least one inversion or not\n",
    "\n",
    "clean_data['Inverted'] = clean_data['Inversions_clean'].apply(lambda x: 1 if x > 0 else 0)\n",
    "\n",
    "print(f\"There are {clean_data.shape[0]} roller coasters we have data for.\")\n",
    "print(f\"There are {np.sum(clean_data['Inverted'])} inverted roller coasters.\")\n",
    "print(f\"There are {clean_data.shape[0]-np.sum(clean_data['Inverted'])} non-inverted roller coasters.\")"
   ]
  },
  {
   "cell_type": "code",
   "execution_count": 89,
   "metadata": {},
   "outputs": [
    {
     "name": "stdout",
     "output_type": "stream",
     "text": [
      "[-0.30526471 -0.33354276  1.24211777]\n"
     ]
    },
    {
     "data": {
      "text/plain": [
       "-40.226354570198495"
      ]
     },
     "execution_count": 89,
     "metadata": {},
     "output_type": "execute_result"
    }
   ],
   "source": [
    "# Creating model and training\n",
    "\n",
    "X_train = clean_data[['height_ft','speed_mph','Gforce_clean']].to_numpy()\n",
    "y_train = clean_data['Inverted'].to_numpy()\n",
    "\n",
    "model = LogisticRegression()\n",
    "model.fit(X_train, y_train)\n",
    "\n",
    "# Predict on training data\n",
    "y_pred = model.predict(X_train)\n",
    "\n",
    "w = model.weights\n",
    "b = model.bias\n",
    "\n",
    "print(w)\n",
    "\n",
    "np.dot(X_train[0], w)\n",
    "\n",
    "\n",
    "#print(X_train)\n",
    "\n",
    "#print(X_train.mean(), X_train.std())\n",
    "\n",
    "#print(y_train)\n",
    "\n",
    "\n"
   ]
  }
 ],
 "metadata": {
  "kernelspec": {
   "display_name": "base",
   "language": "python",
   "name": "python3"
  },
  "language_info": {
   "codemirror_mode": {
    "name": "ipython",
    "version": 3
   },
   "file_extension": ".py",
   "mimetype": "text/x-python",
   "name": "python",
   "nbconvert_exporter": "python",
   "pygments_lexer": "ipython3",
   "version": "3.9.13"
  }
 },
 "nbformat": 4,
 "nbformat_minor": 2
}
