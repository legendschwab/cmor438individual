{
 "cells": [
  {
   "cell_type": "markdown",
   "metadata": {},
   "source": [
    "# I. Algorithm"
   ]
  },
  {
   "cell_type": "code",
   "execution_count": 16,
   "metadata": {},
   "outputs": [],
   "source": [
    "import numpy as np\n",
    "import pandas as pd\n",
    "import matplotlib.pyplot as plt\n",
    "\n",
    "from sklearn.model_selection import train_test_split\n",
    "from sklearn.metrics import accuracy_score, classification_report\n",
    "from sklearn.metrics import roc_curve, roc_auc_score\n",
    "from sklearn.preprocessing import StandardScaler"
   ]
  },
  {
   "cell_type": "code",
   "execution_count": 65,
   "metadata": {},
   "outputs": [],
   "source": [
    "import numpy as np\n",
    "\n",
    "class Neural_Networks:\n",
    "    def __init__(self, layer_sizes, learning_rate=0.01):\n",
    "        \"\"\"\n",
    "        layer_sizes: list of sizes like [input_size, h1, h2, ..., output_size]\n",
    "        \"\"\"\n",
    "        self.lr = learning_rate\n",
    "        self.num_layers = len(layer_sizes) - 1\n",
    "        self.weights = []\n",
    "        self.biases = []\n",
    "\n",
    "        # Initialize weights and biases\n",
    "        for i in range(self.num_layers):\n",
    "            # in_size gives number of inputs at layer_i, out_size gives number of outputs after layer_i\n",
    "            in_size = layer_sizes[i]\n",
    "            out_size = layer_sizes[i+1]\n",
    "            # Initialize weights according to the Kaiming He initialization rule\n",
    "            self.weights.append(np.random.randn(in_size, out_size) * np.sqrt(2. / in_size))\n",
    "            self.biases.append(np.zeros((1, out_size)))\n",
    "\n",
    "    def sigmoid(self, x):\n",
    "        return 1 / (1 + np.exp(-x))\n",
    "\n",
    "    def sigmoid_deriv(self, x):\n",
    "        s = self.sigmoid(x)\n",
    "        return s * (1 - s)\n",
    "       \n",
    "    def forward(self, X):\n",
    "        self.zs = []\n",
    "        self.activations = [X]\n",
    "        a = X\n",
    "        for i in range(self.num_layers - 1):  # Hidden layers\n",
    "            z = a @ self.weights[i] + self.biases[i]\n",
    "            a = self.sigmoid(z)\n",
    "            self.zs.append(z)\n",
    "            self.activations.append(a)\n",
    "        # Output layer (with sigmoid)\n",
    "        z = a @ self.weights[-1] + self.biases[-1]\n",
    "        a = self.sigmoid(z)\n",
    "        self.zs.append(z)\n",
    "        self.activations.append(a)\n",
    "        return a  # output with sigmoid activation\n",
    "\n",
    "    def backward(self, y_true, y_pred):\n",
    "        m = y_true.shape[0]\n",
    "        grads_w = [None] * self.num_layers\n",
    "        grads_b = [None] * self.num_layers\n",
    "        \n",
    "        # Output layer gradients (MSE loss)\n",
    "        delta = (y_pred - y_true) / m\n",
    "        grads_w[-1] = self.activations[-2].T @ delta\n",
    "        grads_b[-1] = np.sum(delta, axis=0, keepdims=True)\n",
    "\n",
    "        # Hidden layers (backpropagation)\n",
    "        for i in reversed(range(self.num_layers - 1)):\n",
    "            delta = (delta @ self.weights[i+1].T) * self.sigmoid_deriv(self.zs[i])\n",
    "            grads_w[i] = self.activations[i].T @ delta\n",
    "            grads_b[i] = np.sum(delta, axis=0, keepdims=True)\n",
    "\n",
    "        # Update weights and biases\n",
    "        for i in range(self.num_layers):\n",
    "            self.weights[i] -= self.lr * grads_w[i]\n",
    "            self.biases[i] -= self.lr * grads_b[i]\n",
    "\n",
    "    def train(self, X, y, epochs=1000, verbose=True):\n",
    "        errors = []\n",
    "        for epoch in range(epochs):\n",
    "            y_pred = self.forward(X)\n",
    "            loss = np.mean((y - y_pred) ** 2)\n",
    "            self.backward(y, y_pred)\n",
    "            if verbose and epoch % 80 == 0:\n",
    "                print(f\"Epoch {epoch}, Loss: {loss:.4f}\")\n",
    "            errors.append(loss)\n",
    "        return errors\n",
    "            \n",
    "    def predict(self, X):\n",
    "        return self.forward(X)\n"
   ]
  },
  {
   "cell_type": "markdown",
   "metadata": {},
   "source": [
    "# II. Application to Data Set"
   ]
  },
  {
   "cell_type": "code",
   "execution_count": 20,
   "metadata": {},
   "outputs": [],
   "source": [
    "# Loading in Data Set and Cleaning\n",
    "game_data = pd.read_csv(\"../bgg_dataset.csv\",delimiter=\";\")\n",
    "\n",
    "game_data['Complexity Average'] = game_data['Complexity Average'].str.replace(',', '.').astype(float)\n",
    "game_data['Rating Average'] = game_data['Rating Average'].str.replace(',', '.').astype(float)\n",
    "\n",
    "# Selecting Columns of Top 100 Games\n",
    "game_cleaned = game_data[['Rating Average','Complexity Average','Min Age','Play Time','BGG Rank']]\n",
    "game_cleaned = game_cleaned[game_cleaned['BGG Rank'] <= 100]\n",
    "game_cleaned.dropna(inplace = True)\n",
    "\n",
    "# Labelling short games as those where play time is less than or equal to 60 minutes\n",
    "game_cleaned['short'] = np.where(game_cleaned['Play Time'] <= 60, 1, 0)\n",
    "\n",
    "short = game_cleaned[game_cleaned['short'] == 1]\n",
    "long = game_cleaned[game_cleaned['short'] == -1]"
   ]
  },
  {
   "cell_type": "markdown",
   "metadata": {},
   "source": [
    "We will use ```'Rating Average'```, ```'Complexity Average'```, and ```'Min Age'``` to predict whether the game is short or long."
   ]
  },
  {
   "cell_type": "code",
   "execution_count": 68,
   "metadata": {},
   "outputs": [
    {
     "name": "stdout",
     "output_type": "stream",
     "text": [
      "Epoch 0, Loss: 0.4039\n",
      "Epoch 80, Loss: 0.2430\n",
      "Epoch 160, Loss: 0.1871\n",
      "Epoch 240, Loss: 0.1664\n",
      "Epoch 320, Loss: 0.1564\n",
      "Epoch 400, Loss: 0.1501\n",
      "Epoch 480, Loss: 0.1453\n",
      "Epoch 560, Loss: 0.1413\n",
      "Epoch 640, Loss: 0.1377\n",
      "Epoch 720, Loss: 0.1344\n",
      "Epoch 800, Loss: 0.1314\n",
      "Epoch 880, Loss: 0.1286\n",
      "Epoch 960, Loss: 0.1259\n",
      "Accuracy:0.8\n",
      "Classification Report:\n",
      "               precision    recall  f1-score   support\n",
      "\n",
      "           0       0.80      1.00      0.89        16\n",
      "           1       0.00      0.00      0.00         4\n",
      "\n",
      "    accuracy                           0.80        20\n",
      "   macro avg       0.40      0.50      0.44        20\n",
      "weighted avg       0.64      0.80      0.71        20\n",
      "\n"
     ]
    },
    {
     "name": "stderr",
     "output_type": "stream",
     "text": [
      "/Users/jonathancheng/opt/anaconda3/lib/python3.9/site-packages/sklearn/metrics/_classification.py:1565: UndefinedMetricWarning: Precision is ill-defined and being set to 0.0 in labels with no predicted samples. Use `zero_division` parameter to control this behavior.\n",
      "  _warn_prf(average, modifier, f\"{metric.capitalize()} is\", len(result))\n",
      "/Users/jonathancheng/opt/anaconda3/lib/python3.9/site-packages/sklearn/metrics/_classification.py:1565: UndefinedMetricWarning: Precision is ill-defined and being set to 0.0 in labels with no predicted samples. Use `zero_division` parameter to control this behavior.\n",
      "  _warn_prf(average, modifier, f\"{metric.capitalize()} is\", len(result))\n",
      "/Users/jonathancheng/opt/anaconda3/lib/python3.9/site-packages/sklearn/metrics/_classification.py:1565: UndefinedMetricWarning: Precision is ill-defined and being set to 0.0 in labels with no predicted samples. Use `zero_division` parameter to control this behavior.\n",
      "  _warn_prf(average, modifier, f\"{metric.capitalize()} is\", len(result))\n"
     ]
    }
   ],
   "source": [
    "# Preparing data \n",
    "X = game_cleaned[['Rating Average', 'Complexity Average','Min Age']].to_numpy()\n",
    "y = game_cleaned['short'].to_numpy()\n",
    "\n",
    "# Split data into training and testing sets\n",
    "X_train, X_test, y_train, y_test = train_test_split(X, y, test_size=0.2, random_state=40)\n",
    "\n",
    "#Scale the features \n",
    "scaler = StandardScaler()\n",
    "X_train_scaled = scaler.fit_transform(X_train)\n",
    "X_test_scaled = scaler.transform(X_test)\n",
    "\n",
    "# 3. Define and fit the neural network\n",
    "model = Neural_Networks(layer_sizes = [3, 10, 1])\n",
    "model_errors = model.train(X_train_scaled, y_train.reshape(-1,1))\n",
    "\n",
    "# 4. Evaluate the model\n",
    "y_pred = model.predict(X_test_scaled)\n",
    "y_pred_labels = (y_pred >= 0.5).astype(int)\n",
    "print(f\"Accuracy:{accuracy_score(y_test, y_pred_labels)}\")\n",
    "print(\"Classification Report:\\n\", classification_report(y_test, y_pred_labels))\n"
   ]
  },
  {
   "cell_type": "code",
   "execution_count": 69,
   "metadata": {},
   "outputs": [
    {
     "data": {
      "image/png": "[encoded data removed]",
      "text/plain": [
       "<Figure size 1000x600 with 1 Axes>"
      ]
     },
     "metadata": {},
     "output_type": "display_data"
    }
   ],
   "source": [
    "# Plotting training error vs. epochs\n",
    "epochs = np.arange(len(model_errors))  \n",
    "plt.figure(figsize=(10, 6))\n",
    "plt.plot(epochs, model_errors, label='Training Error', color='blue')\n",
    "plt.xlabel('Epoch')\n",
    "plt.ylabel('Mean Squared Error')\n",
    "plt.title('Training Error vs. Epochs')\n",
    "plt.grid(True)\n",
    "plt.legend()\n",
    "plt.tight_layout()\n",
    "plt.show()"
   ]
  }
 ],
 "metadata": {
  "kernelspec": {
   "display_name": "base",
   "language": "python",
   "name": "python3"
  },
  "language_info": {
   "codemirror_mode": {
    "name": "ipython",
    "version": 3
   },
   "file_extension": ".py",
   "mimetype": "text/x-python",
   "name": "python",
   "nbconvert_exporter": "python",
   "pygments_lexer": "ipython3",
   "version": "3.9.13"
  }
 },
 "nbformat": 4,
 "nbformat_minor": 2
}
