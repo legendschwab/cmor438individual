{
 "cells": [
  {
   "cell_type": "markdown",
   "metadata": {},
   "source": [
    "# I. Algorithm"
   ]
  },
  {
   "cell_type": "code",
   "execution_count": null,
   "metadata": {},
   "outputs": [],
   "source": [
    "import numpy as np\n",
    "import pandas as pd\n",
    "from collections import Counter"
   ]
  },
  {
   "cell_type": "code",
   "execution_count": null,
   "metadata": {},
   "outputs": [],
   "source": [
    "# Step 1: Define the Euclidean distance function\n",
    "def euclidean_distance(point1, point2):\n",
    "    return np.sqrt(np.sum((point1 - point2) ** 2))\n",
    "\n",
    "# Step 2: Implement the KNN class\n",
    "class KNN:\n",
    "    def __init__(self, k=3):\n",
    "        self.k = k  # Number of neighbors\n",
    "\n",
    "    def fit(self, X_train, y_train):\n",
    "        self.X_train = X_train\n",
    "        self.y_train = y_train\n",
    "\n",
    "    def predict(self, X_test):\n",
    "        predictions = [self._predict(x) for x in X_test]\n",
    "        return np.array(predictions)\n",
    "\n",
    "    def _predict(self, x):\n",
    "        # Compute the distance between x and all points in the training data\n",
    "        distances = [euclidean_distance(x, x_train) for x_train in self.X_train]\n",
    "        \n",
    "        # Get the indices of the k nearest neighbors\n",
    "        k_indices = np.argsort(distances)[:self.k]\n",
    "        \n",
    "        # Get the labels of the k nearest neighbors\n",
    "        k_nearest_labels = [self.y_train[i] for i in k_indices]\n",
    "        \n",
    "        # Return the most common class label among the k neighbors\n",
    "        most_common = Counter(k_nearest_labels).most_common(1)\n",
    "        return most_common[0][0]\n",
    "\n",
    "# Step 3: Data Preparation\n",
    "# Example: Encoding the 'Material' column as 1 for wood and -1 for steel\n",
    "#coaster_data['Material'] = coaster_data['Type'].apply(lambda x: 1 if 'Wood' in x else -1)\n",
    "\n",
    "# Select features and target variable\n",
    "#X = coaster_data[['height_ft', 'speed_mph', 'Gforce_clean']].values  # Features\n",
    "#y = coaster_data['Material'].values  # Target (1 for Wood, -1 for Steel)\n",
    "\n",
    "# Split the data manually (80% train, 20% test)\n",
    "#split = int(0.8 * len(X))\n",
    "#X_train, X_test = X[:split], X[split:]\n",
    "#y_train, y_test = y[:split], y[split:]\n",
    "\n",
    "# Step 4: Train the model using KNN\n",
    "k = 5  # Number of neighbors\n",
    "knn = KNN(k=k)\n",
    "#knn.fit(X_train, y_train)\n",
    "#\n",
    "# Step 5: Make predictions on the test data\n",
    "#y_pred = knn.predict(X_test)\n",
    "\n",
    "# Step 6: Evaluate the model\n",
    "def accuracy(y_true, y_pred):\n",
    "    return np.sum(y_true == y_pred) / len(y_true)\n",
    "\n",
    "# Calculate accuracy\n",
    "accuracy_score = accuracy(y_test, y_pred)\n",
    "print(f'Accuracy: {accuracy_score * 100:.2f}%')\n",
    "\n"
   ]
  }
 ],
 "metadata": {
  "kernelspec": {
   "display_name": "Python 3",
   "language": "python",
   "name": "python3"
  },
  "language_info": {
   "name": "python",
   "version": "3.9.5"
  }
 },
 "nbformat": 4,
 "nbformat_minor": 2
}
