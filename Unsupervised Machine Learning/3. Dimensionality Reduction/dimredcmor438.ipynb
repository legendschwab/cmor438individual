{
 "cells": [
  {
   "cell_type": "markdown",
   "metadata": {},
   "source": [
    "# I. Algorithm"
   ]
  },
  {
   "cell_type": "code",
   "execution_count": 1,
   "metadata": {},
   "outputs": [],
   "source": [
    "import numpy as np\n",
    "import pandas as pd\n",
    "from sklearn.decomposition import PCA"
   ]
  },
  {
   "cell_type": "code",
   "execution_count": null,
   "metadata": {},
   "outputs": [],
   "source": [
    "import numpy as np\n",
    "import pandas as pd\n",
    "\n",
    "def pca(data, num_components=2):\n",
    "    \"\"\"\n",
    "    Perform PCA on the given dataset.\n",
    "\n",
    "    Parameters:\n",
    "    - data: 2D numpy array or pandas DataFrame where rows are samples and columns are features.\n",
    "    - num_components: Number of principal components to return.\n",
    "\n",
    "    Returns:\n",
    "    - transformed_data: The data projected onto the selected principal components.\n",
    "    - explained_variance_ratio: The percentage of variance explained by each of the selected principal components.\n",
    "    \"\"\"\n",
    "    # Standardize the data (mean = 0, variance = 1)\n",
    "    data_meaned = data - np.mean(data, axis=0)\n",
    "\n",
    "    # Compute the covariance matrix\n",
    "    covariance_matrix = np.cov(data_meaned, rowvar=False)\n",
    "\n",
    "    # Compute the eigenvalues and eigenvectors\n",
    "    eigenvalues, eigenvectors = np.linalg.eigh(covariance_matrix)\n",
    "\n",
    "    # Sort the eigenvalues and eigenvectors in descending order\n",
    "    sorted_indices = np.argsort(eigenvalues)[::-1]\n",
    "    eigenvalues_sorted = eigenvalues[sorted_indices]\n",
    "    eigenvectors_sorted = eigenvectors[:, sorted_indices]\n",
    "\n",
    "    # Select the top 'num_components' eigenvectors\n",
    "    eigenvectors_selected = eigenvectors_sorted[:, :num_components]\n",
    "\n",
    "    # Project the data onto the selected eigenvectors\n",
    "    transformed_data = np.dot(data_meaned, eigenvectors_selected)\n",
    "\n",
    "    # Explained variance ratio\n",
    "    explained_variance_ratio = eigenvalues_sorted[:num_components] / np.sum(eigenvalues_sorted)\n",
    "\n",
    "    return transformed_data, explained_variance_ratio\n",
    "\n"
   ]
  },
  {
   "cell_type": "markdown",
   "metadata": {},
   "source": [
    "# II. Application to Data Set"
   ]
  }
 ],
 "metadata": {
  "kernelspec": {
   "display_name": "base",
   "language": "python",
   "name": "python3"
  },
  "language_info": {
   "codemirror_mode": {
    "name": "ipython",
    "version": 3
   },
   "file_extension": ".py",
   "mimetype": "text/x-python",
   "name": "python",
   "nbconvert_exporter": "python",
   "pygments_lexer": "ipython3",
   "version": "3.9.13"
  }
 },
 "nbformat": 4,
 "nbformat_minor": 2
}
